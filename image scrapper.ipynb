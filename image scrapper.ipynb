{
 "cells": [
  {
   "cell_type": "markdown",
   "id": "297b7ef8-ac87-4331-b541-72c68384ee3e",
   "metadata": {},
   "source": [
    "## 1. Write a python program to extract the video URL of the first five videos."
   ]
  },
  {
   "cell_type": "code",
   "execution_count": 2,
   "id": "5f10a302-c1c8-4dc9-b65c-902e2cf3cfad",
   "metadata": {},
   "outputs": [],
   "source": [
    "import requests\n",
    "from bs4 import BeautifulSoup\n",
    "\n",
    "# Send a GET request to the YouTube channel URL\n",
    "url = \"https://www.youtube.com/@PW-Foundation/videos\"\n",
    "response = requests.get(url)\n",
    "\n",
    "# Create a BeautifulSoup object to parse the HTML content\n",
    "soup = BeautifulSoup(response.text, 'html.parser')\n",
    "\n",
    "# Find all the video links on the page\n",
    "video_links = soup.select(\"a.yt-simple-endpoint.style-scope.ytd-grid-video-renderer\")\n",
    "\n",
    "# Extract the video URLs of the first five videos\n",
    "video_urls = []\n",
    "for link in video_links[:5]:\n",
    "    video_url = \"https://www.youtube.com\" + link['href']\n",
    "    video_urls.append(video_url)\n",
    "\n",
    "# Print the extracted video URLs\n",
    "for url in video_urls:\n",
    "    print(url)\n"
   ]
  },
  {
   "cell_type": "markdown",
   "id": "192436b8-6873-42c1-ba79-90252a4e9d83",
   "metadata": {},
   "source": [
    "## 2.Write a python program to extract the URL of the video thumbnails of the first five videos."
   ]
  },
  {
   "cell_type": "code",
   "execution_count": 6,
   "id": "befa90fb-f824-4087-8d5c-20bec0a96f22",
   "metadata": {},
   "outputs": [],
   "source": [
    "import requests\n",
    "from bs4 import BeautifulSoup\n",
    "\n",
    "# Define the URL of the YouTube channel\n",
    "channel_url = \"https://www.youtube.com/@PW-Foundation/videos\"\n",
    "\n",
    "# Send a GET request to the channel URL\n",
    "response = requests.get(channel_url)\n",
    "\n",
    "# Create a BeautifulSoup object to parse the HTML content\n",
    "soup = BeautifulSoup(response.content, 'html.parser')\n",
    "\n",
    "# Find all the video thumbnails on the page\n",
    "thumbnails = soup.select('a#thumbnail')\n",
    "\n",
    "# Extract the URLs of the video thumbnails for the first five videos\n",
    "thumbnail_urls = []\n",
    "for thumbnail in thumbnails[:5]:\n",
    "    thumbnail_url = thumbnail['href']\n",
    "    thumbnail_urls.append(thumbnail_url)\n",
    "\n",
    "# Print the extracted thumbnail URLs\n",
    "for url in thumbnail_urls:\n",
    "    print(url)\n"
   ]
  },
  {
   "cell_type": "markdown",
   "id": "92cb298c-90d9-47b7-8612-14d4d43bb206",
   "metadata": {},
   "source": [
    "## 3.Write a python program to extract the title of the first five videos."
   ]
  },
  {
   "cell_type": "code",
   "execution_count": 8,
   "id": "f18883ff-8495-4897-a5a3-3c1c8070a3e9",
   "metadata": {},
   "outputs": [],
   "source": [
    "import requests\n",
    "from bs4 import BeautifulSoup\n",
    "\n",
    "# Send a GET request to the YouTube channel URL\n",
    "url = \"https://www.youtube.com/@PW-Foundation/videos\"\n",
    "response = requests.get(url)\n",
    "\n",
    "# Create a BeautifulSoup object to parse the HTML content\n",
    "soup = BeautifulSoup(response.text, 'html.parser')\n",
    "\n",
    "# Find the elements containing the video titles\n",
    "video_elements = soup.find_all('a', class_='yt-simple-endpoint style-scope ytd-grid-video-renderer')\n",
    "\n",
    "# Extract the titles of the first five videos\n",
    "video_titles = [element.text.strip() for element in video_elements[:5]]\n",
    "\n",
    "# Print the titles\n",
    "for title in video_titles:\n",
    "    print(title)\n"
   ]
  },
  {
   "cell_type": "markdown",
   "id": "52519842-dc87-4e4f-9a22-0d7053ec48d8",
   "metadata": {},
   "source": [
    "## 4.Write a python program to extract the number of views of the first five videos."
   ]
  },
  {
   "cell_type": "code",
   "execution_count": 9,
   "id": "13b6955d-c09b-45b4-93b7-6abea824ee5f",
   "metadata": {},
   "outputs": [],
   "source": [
    "import requests\n",
    "from bs4 import BeautifulSoup\n",
    "\n",
    "# Define the YouTube channel URL\n",
    "url = \"https://www.youtube.com/@PW-Foundation/videos\"\n",
    "\n",
    "# Send a GET request to the URL\n",
    "response = requests.get(url)\n",
    "\n",
    "# Create a BeautifulSoup object\n",
    "soup = BeautifulSoup(response.content, \"html.parser\")\n",
    "\n",
    "# Find the video containers\n",
    "video_containers = soup.find_all(\"ytd-grid-video-renderer\", limit=5)\n",
    "\n",
    "# Extract the number of views for each video\n",
    "for container in video_containers:\n",
    "    title_element = container.find(\"a\", class_=\"yt-simple-endpoint style-scope ytd-grid-video-renderer\")\n",
    "    views_element = container.find(\"span\", class_=\"style-scope ytd-grid-video-renderer\")\n",
    "    title = title_element.text.strip()\n",
    "    views = views_element.text.strip() if views_element else \"N/A\"\n",
    "    print(f\"Video Title: {title}\")\n",
    "    print(f\"Number of Views: {views}\")\n",
    "    print(\"------\")\n"
   ]
  },
  {
   "cell_type": "markdown",
   "id": "b3d95454-085d-43ba-b010-bd49a5844d54",
   "metadata": {},
   "source": [
    "## 5.Write a python program to extract the time of posting of video for the first five videos"
   ]
  },
  {
   "cell_type": "code",
   "execution_count": 10,
   "id": "e0cf4438-c545-4684-941f-04a5f480e2e4",
   "metadata": {},
   "outputs": [],
   "source": [
    "import requests\n",
    "from bs4 import BeautifulSoup\n",
    "\n",
    "# Define the YouTube URL\n",
    "url = \"https://www.youtube.com/@PW-Foundation/videos\"\n",
    "\n",
    "# Send a GET request to the URL and get the HTML content\n",
    "response = requests.get(url)\n",
    "content = response.text\n",
    "\n",
    "# Create a BeautifulSoup object to parse the HTML content\n",
    "soup = BeautifulSoup(content, 'html.parser')\n",
    "\n",
    "# Find all the video items on the page\n",
    "video_items = soup.find_all('ytd-grid-video-renderer')\n",
    "\n",
    "# Extract the time of posting for the first five videos\n",
    "for video in video_items[:5]:\n",
    "    title_element = video.find('a', class_='yt-simple-endpoint')\n",
    "    time_element = video.find('span', class_='style-scope ytd-grid-video-renderer')\n",
    "\n",
    "    title = title_element.text.strip()\n",
    "    time = time_element.text.strip()\n",
    "\n",
    "    print(f\"Video Title: {title}\")\n",
    "    print(f\"Time of Posting: {time}\")\n",
    "    print(\"--------------------------------------\")\n"
   ]
  }
 ],
 "metadata": {
  "kernelspec": {
   "display_name": "Python 3 (ipykernel)",
   "language": "python",
   "name": "python3"
  },
  "language_info": {
   "codemirror_mode": {
    "name": "ipython",
    "version": 3
   },
   "file_extension": ".py",
   "mimetype": "text/x-python",
   "name": "python",
   "nbconvert_exporter": "python",
   "pygments_lexer": "ipython3",
   "version": "3.10.8"
  }
 },
 "nbformat": 4,
 "nbformat_minor": 5
}
